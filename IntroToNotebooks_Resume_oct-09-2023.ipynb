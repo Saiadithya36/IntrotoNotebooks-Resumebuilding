{
 "cells": [
  {
   "cell_type": "markdown",
   "id": "539d44f1",
   "metadata": {},
   "source": [
    "<i><u>**<center>Resume</center>**</u><i>"
   ]
  },
  {
   "cell_type": "markdown",
   "id": "32c00f97",
   "metadata": {},
   "source": [
    "![](https://media.licdn.com/dms/image/D5603AQEDLzKnpK6Bbg/profile-displayphoto-shrink_800_800/0/1693865991744?e=1702512000&v=beta&t=K4Hnbjtsd9xf0dttEQ3rvAcZhdqJgv2R17v7cBhlUKg)"
   ]
  },
  {
   "cell_type": "markdown",
   "id": "7c734cbb",
   "metadata": {},
   "source": [
    "### <u>Name</U>: Voraganti Sai Adithya\n",
    "### <u>Phone Number</u>: +91xxxxxxxxxx\n",
    "### <u>Email address</U>: saiadithya36@gmail.com\n",
    "\n",
    "\n"
   ]
  },
  {
   "cell_type": "markdown",
   "id": "27c07d1a",
   "metadata": {},
   "source": [
    "### **<u>EXPERIENCE:**</U>\n",
    "\n",
    "##### JULY 2020 – DECEMBER 2021\n",
    "##### MACHINE LEARNING DATA ASSOCIATE, AMAZON CORPORATE\n",
    "\n",
    "* Worked flexible hours; Night, Morning and Mid Shifts and flexible to work over time.\n",
    "* Used coordination and planning skills to achieve results according to Schedule.\n",
    "* Carried out day to day duties accurately and efficiently.\n",
    "* Worked on checking the products data to provide assurance to the customers.\n",
    "* Used to communicate with the customers about their product data and also solved their problems through emails and calls.\n",
    "* Also, worked on improving the camera modules like ring engineering services and IVA smart home.\n",
    "* Proved successful working within tight deadlines and fast paced atmosphere.\n",
    "* Took responsibilities during tough times and implemented ways to reach the goals \n",
    "* Implemented process improvement ideas that helped my team to reach their goals in time.\n"
   ]
  },
  {
   "cell_type": "markdown",
   "id": "045b5e3e",
   "metadata": {},
   "source": [
    "##### January 2021 – December 2022\n",
    "##### PRODUCT DATA ANALYST, PHENOMPEOPLE\n",
    "\n",
    "* Worked as a data analyst and also a machine learning associate for the same product\n",
    "* Helped in collecting the data and also annotating the collected data and achieved the results.\n",
    "* Worked for the extra hours due to the tight deadlines and successfully met all the targets.\n",
    "* Also helped the HR in screening by collecting the candidate’s data.\n",
    "* Implemented ideas for the improvement of the tool and made this made the work easy for my team and also the clients.\n"
   ]
  },
  {
   "cell_type": "markdown",
   "id": "2895ce92",
   "metadata": {},
   "source": [
    "### <u>Education:</u>\n",
    "\n",
    "**Graduation: xxxxxxxx**\n",
    "\n",
    "**Intermediate : xxxxxx**\n",
    " \n",
    "**School : xxxx**\n",
    " \n",
    " "
   ]
  },
  {
   "cell_type": "markdown",
   "id": "5d8edc9c",
   "metadata": {},
   "source": [
    "### <u>skills:</u>\n",
    "\n",
    "* Advanced microsoft office.\n",
    "* Proficient in English, Hindi and Telugu Languages. \n",
    "* Hardworking and Fast learner.\n",
    "* Quick Decision Making Skills.\n",
    "* Discipline and Time management.\n"
   ]
  },
  {
   "cell_type": "markdown",
   "id": "54be5968",
   "metadata": {},
   "source": [
    "### <u>Websites:</u>\n",
    "\n",
    " * Click[Here](https://github.com/Saiadithya36) for Github Profile\n",
    " * Click[Here](https://www.linkedin.com/in/sai-adithya-469996225/) for Linkedin Profile\n",
    " * Click[Here](https://medium.com/@saiadithya36) for Medium profile\n",
    " * Click[Here](https://www.kaggle.com/saiadithya36) for Kaggle profile"
   ]
  },
  {
   "cell_type": "markdown",
   "id": "bb908312",
   "metadata": {},
   "source": [
    "### <u>Declaration:</u>\n",
    "\n",
    "   I hereby declare that the above said information is true and correct to the best of my knowledge and nothing has been concealed or distorted.\n",
    "\n"
   ]
  }
 ],
 "metadata": {
  "kernelspec": {
   "display_name": "Python 3 (ipykernel)",
   "language": "python",
   "name": "python3"
  },
  "language_info": {
   "codemirror_mode": {
    "name": "ipython",
    "version": 3
   },
   "file_extension": ".py",
   "mimetype": "text/x-python",
   "name": "python",
   "nbconvert_exporter": "python",
   "pygments_lexer": "ipython3",
   "version": "3.11.5"
  }
 },
 "nbformat": 4,
 "nbformat_minor": 5
}
